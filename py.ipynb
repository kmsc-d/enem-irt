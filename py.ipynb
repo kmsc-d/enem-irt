{
 "cells": [
  {
   "cell_type": "markdown",
   "id": "69da7af9",
   "metadata": {},
   "source": [
    "1 - Importacoes dos pacotes necessarios. E valido ressaltar que foi utilizado o VSCode, então, para a execucao do codigo e necessario a criacao de um ambiente virtual e instalacao das dependencias contidas em \"requeriments.txt\". Todo conteudo necessario esta na pasta \"enem_irt\", desde a versao python utilizada ate os pacotes para importacao. O passo a passo para o preparo do ambiente esta em \"config_ambiente.txt\""
   ]
  },
  {
   "cell_type": "code",
   "execution_count": null,
   "id": "ae05c7af",
   "metadata": {},
   "outputs": [],
   "source": [
    "from py_irt.config import IrtConfig\n",
    "from py_irt.training import IrtModelTrainer\n",
    "from py_irt.initializers import IrtInitializer\n",
    "from collections import defaultdict"
   ]
  },
  {
   "cell_type": "markdown",
   "id": "99fc4310",
   "metadata": {},
   "source": [
    "2 - Seguem os arquivos pre-processados em .jsonlines por \"convertion_To_Jsonlines.py\" tendo como base o arquivo original, presente em \"dados/file.txt\"."
   ]
  },
  {
   "cell_type": "code",
   "execution_count": null,
   "id": "442991f8",
   "metadata": {},
   "outputs": [],
   "source": [
    "file_path_MT = 'C:/Users/Kelvin/Desktop/Enem-IRT/dados_jsonlines/1 - respostas_MT.jsonl'\n",
    "file_path_CN = 'C:/Users/Kelvin/Desktop/Enem-IRT/dados_jsonlines/2 - respostas_CN.jsonl'\n",
    "file_path_CH = 'C:/Users/Kelvin/Desktop/Enem-IRT/dados_jsonlines/3 - respostas_CH.jsonl'\n",
    "file_path_LC = 'C:/Users/Kelvin/Desktop/Enem-IRT/dados_jsonlines/4 - respostas_LC.jsonl'\n",
    "file_path_ES = 'C:/Users/Kelvin/Desktop/Enem-IRT/dados_jsonlines/5 - respostas_ES.jsonl'\n",
    "file_path_IN = 'C:/Users/Kelvin/Desktop/Enem-IRT/dados_jsonlines/6 - respostas_IN.jsonl'"
   ]
  },
  {
   "cell_type": "markdown",
   "id": "ee5f85dd",
   "metadata": {},
   "source": [
    "3 - A configuracao do modelo para treinamento."
   ]
  },
  {
   "cell_type": "code",
   "execution_count": null,
   "id": "14def45f",
   "metadata": {},
   "outputs": [],
   "source": [
    "config = IrtConfig(\n",
    "    model_type=\"3pl\",\n",
    "    epochs=1000,\n",
    "    priors=\"modern\",\n",
    "    dims=1,\n",
    "    lr=0.1,\n",
    "    lr_decay=0.999,\n",
    "    dropout=0.0,\n",
    "    hidden=100,\n",
    "    vocab_size=None,\n",
    "    log_every=500,\n",
    "    seed=42,\n",
    "    deterministic=True,\n",
    "    quadrature_points=20,\n",
    "    logistic_scale=1.702         \n",
    ")"
   ]
  },
  {
   "cell_type": "markdown",
   "id": "3fb2a289",
   "metadata": {},
   "source": [
    "4.1.1 - Treinamento executado apenas com os dados referentes a Matematica."
   ]
  },
  {
   "cell_type": "code",
   "execution_count": null,
   "id": "de20d349",
   "metadata": {},
   "outputs": [],
   "source": [
    "trainer_MT = IrtModelTrainer(\n",
    "    config=config,\n",
    "    data_path=file_path_MT\n",
    ")\n",
    "\n",
    "trainer_MT.train()"
   ]
  },
  {
   "cell_type": "markdown",
   "id": "8bbce8eb",
   "metadata": {},
   "source": [
    "4.1.2 - Resultados salvos em \"./resultados/1 - saida_MT.txt\"."
   ]
  },
  {
   "cell_type": "code",
   "execution_count": null,
   "id": "69df1eca",
   "metadata": {},
   "outputs": [],
   "source": [
    "discrimination = trainer_MT.last_params[\"disc\"]\n",
    "difficulty = trainer_MT.last_params[\"diff\"]\n",
    "guessing = trainer_MT.last_params[\"lambdas\"]\n",
    "\n",
    "with open('C:/Users/Kelvin/Desktop/Enem-IRT/resultados/1 - saida_MT.txt', 'w', encoding='utf-8') as arquivo:\n",
    "    arquivo.write(\"          Dscrmn      Dffclt      Gussng\\n\")\n",
    "    for idx, (a, b, c) in enumerate(zip(discrimination, difficulty, guessing)):\n",
    "        arquivo.write(f\"MT...{idx + 1:<3}  {a:>9.7f}  {b:>10.8f}  {c:>12.10f}\\n\")"
   ]
  },
  {
   "cell_type": "markdown",
   "id": "baf10c7e",
   "metadata": {},
   "source": [
    "4.2.1 - Treinamento executado apenas com os dados referentes a Ciencias da Natureza."
   ]
  },
  {
   "cell_type": "code",
   "execution_count": null,
   "id": "e68e893a",
   "metadata": {},
   "outputs": [],
   "source": [
    "trainer_CN = IrtModelTrainer(\n",
    "    config=config,\n",
    "    data_path=file_path_CN\n",
    ")\n",
    "\n",
    "trainer_CN.train()"
   ]
  },
  {
   "cell_type": "markdown",
   "id": "4c0ba739",
   "metadata": {},
   "source": [
    "4.2.2 - Resultados salvos em \"./resultados/2 - saida_CN.txt\"."
   ]
  },
  {
   "cell_type": "code",
   "execution_count": null,
   "id": "86548a0b",
   "metadata": {},
   "outputs": [],
   "source": [
    "discrimination = trainer_CN.last_params[\"disc\"]\n",
    "difficulty = trainer_CN.last_params[\"diff\"]\n",
    "guessing = trainer_CN.last_params[\"lambdas\"]\n",
    "\n",
    "with open('C:/Users/Kelvin/Desktop/Enem-IRT/resultados/2 - saida_CN.txt', 'w', encoding='utf-8') as arquivo:\n",
    "    arquivo.write(\"          Dscrmn      Dffclt      Gussng\\n\")\n",
    "    for idx, (a, b, c) in enumerate(zip(discrimination, difficulty, guessing)):\n",
    "        arquivo.write(f\"CN...{idx + 1:<3}  {a:>9.7f}  {b:>10.8f}  {c:>12.10f}\\n\")"
   ]
  },
  {
   "cell_type": "markdown",
   "id": "7c82a111",
   "metadata": {},
   "source": [
    "4.3.1 - Treinamento executado apenas com os dados referentes a Ciencias Humanas."
   ]
  },
  {
   "cell_type": "code",
   "execution_count": null,
   "id": "6750f72c",
   "metadata": {},
   "outputs": [],
   "source": [
    "trainer_CH = IrtModelTrainer(\n",
    "    config=config,\n",
    "    data_path=file_path_CH\n",
    ")\n",
    "\n",
    "trainer_CH.train()"
   ]
  },
  {
   "cell_type": "markdown",
   "id": "85a868ef",
   "metadata": {},
   "source": [
    "4.3.2 - Resultados salvos em \"./resultados/3 - saida_CH.txt\"."
   ]
  },
  {
   "cell_type": "code",
   "execution_count": null,
   "id": "df12cffc",
   "metadata": {},
   "outputs": [],
   "source": [
    "discrimination = trainer_CH.last_params[\"disc\"]\n",
    "difficulty = trainer_CH.last_params[\"diff\"]\n",
    "guessing = trainer_CH.last_params[\"lambdas\"]\n",
    "\n",
    "with open('C:/Users/Kelvin/Desktop/Enem-IRT/resultados/3 - saida_CH.txt', 'w', encoding='utf-8') as arquivo:\n",
    "    arquivo.write(\"          Dscrmn      Dffclt      Gussng\\n\")\n",
    "    for idx, (a, b, c) in enumerate(zip(discrimination, difficulty, guessing)):\n",
    "        arquivo.write(f\"CH...{idx + 1:<3}  {a:>9.7f}  {b:>10.8f}  {c:>12.10f}\\n\")"
   ]
  },
  {
   "cell_type": "markdown",
   "id": "0707f9e0",
   "metadata": {},
   "source": [
    "4.4.1 - Treinamento executado apenas com os dados referentes a Linguagens e Codigos."
   ]
  },
  {
   "cell_type": "code",
   "execution_count": null,
   "id": "23994a8e",
   "metadata": {},
   "outputs": [],
   "source": [
    "trainer_LC = IrtModelTrainer(\n",
    "    config=config,\n",
    "    data_path=file_path_LC\n",
    ")\n",
    "\n",
    "trainer_LC.train()"
   ]
  },
  {
   "cell_type": "markdown",
   "id": "9fc06e0d",
   "metadata": {},
   "source": [
    "4.4.2 - Resultados salvos em \"./resultados/4 - saida_LC.txt\"."
   ]
  },
  {
   "cell_type": "code",
   "execution_count": null,
   "id": "68e4cfae",
   "metadata": {},
   "outputs": [],
   "source": [
    "discrimination = trainer_LC.last_params[\"disc\"]\n",
    "difficulty = trainer_LC.last_params[\"diff\"]\n",
    "guessing = trainer_LC.last_params[\"lambdas\"]\n",
    "\n",
    "with open('C:/Users/Kelvin/Desktop/Enem-IRT/resultados/4 - saida_LC.txt', 'w', encoding='utf-8') as arquivo:\n",
    "    arquivo.write(\"          Dscrmn      Dffclt      Gussng\\n\")\n",
    "    for idx, (a, b, c) in enumerate(zip(discrimination, difficulty, guessing)):\n",
    "        arquivo.write(f\"LC...{idx + 1:<3}  {a:>9.7f}  {b:>10.8f}  {c:>12.10f}\\n\")"
   ]
  },
  {
   "cell_type": "markdown",
   "id": "5aadbce5",
   "metadata": {},
   "source": [
    "4.5.1 - Treinamento executado apenas com os dados referentes a Espanhol."
   ]
  },
  {
   "cell_type": "code",
   "execution_count": null,
   "id": "8bb730ad",
   "metadata": {},
   "outputs": [],
   "source": [
    "trainer_ES = IrtModelTrainer(\n",
    "    config=config,\n",
    "    data_path=file_path_ES\n",
    ")\n",
    "\n",
    "trainer_ES.train()"
   ]
  },
  {
   "cell_type": "markdown",
   "id": "0a1a3d69",
   "metadata": {},
   "source": [
    "4.5.2 - Resultados salvos em \"./resultados/5 - saida_ES.txt\"."
   ]
  },
  {
   "cell_type": "code",
   "execution_count": null,
   "id": "01a78b91",
   "metadata": {},
   "outputs": [],
   "source": [
    "discrimination = trainer_ES.last_params[\"disc\"]\n",
    "difficulty = trainer_ES.last_params[\"diff\"]\n",
    "guessing = trainer_ES.last_params[\"lambdas\"]\n",
    "\n",
    "with open('C:/Users/Kelvin/Desktop/Enem-IRT/resultados/5 - saida_ES.txt', 'w', encoding='utf-8') as arquivo:\n",
    "    arquivo.write(\"          Dscrmn      Dffclt      Gussng\\n\")\n",
    "    for idx, (a, b, c) in enumerate(zip(discrimination, difficulty, guessing)):\n",
    "        arquivo.write(f\"ES...{idx + 1:<3}  {a:>9.7f}  {b:>10.8f}  {c:>12.10f}\\n\")"
   ]
  },
  {
   "cell_type": "markdown",
   "id": "b84ce90d",
   "metadata": {},
   "source": [
    "4.6.1 - Treinamento executado apenas com os dados referentes a Ingles."
   ]
  },
  {
   "cell_type": "code",
   "execution_count": null,
   "id": "3391bc6a",
   "metadata": {},
   "outputs": [],
   "source": [
    "trainer_IN = IrtModelTrainer(\n",
    "    config=config,\n",
    "    data_path=file_path_IN\n",
    ")\n",
    "\n",
    "trainer_IN.train()"
   ]
  },
  {
   "cell_type": "markdown",
   "id": "0b547674",
   "metadata": {},
   "source": [
    "4.6.2 - Resultados salvos em \"./resultados/6 - saida_IN.txt\"."
   ]
  },
  {
   "cell_type": "code",
   "execution_count": null,
   "id": "0f51b7fc",
   "metadata": {},
   "outputs": [],
   "source": [
    "discrimination = trainer_IN.last_params[\"disc\"]\n",
    "difficulty = trainer_IN.last_params[\"diff\"]\n",
    "guessing = trainer_IN.last_params[\"lambdas\"]\n",
    "\n",
    "with open('C:/Users/Kelvin/Desktop/Enem-IRT/resultados/6 - saida_IN.txt', 'w', encoding='utf-8') as arquivo:\n",
    "    arquivo.write(\"          Dscrmn      Dffclt      Gussng\\n\")\n",
    "    for idx, (a, b, c) in enumerate(zip(discrimination, difficulty, guessing)):\n",
    "        arquivo.write(f\"IN...{idx + 1:<3}  {a:>9.7f}  {b:>10.8f}  {c:>12.10f}\\n\")"
   ]
  }
 ],
 "metadata": {
  "kernelspec": {
   "display_name": "venv_irt",
   "language": "python",
   "name": "python3"
  },
  "language_info": {
   "codemirror_mode": {
    "name": "ipython",
    "version": 3
   },
   "file_extension": ".py",
   "mimetype": "text/x-python",
   "name": "python",
   "nbconvert_exporter": "python",
   "pygments_lexer": "ipython3",
   "version": "3.11.9"
  }
 },
 "nbformat": 4,
 "nbformat_minor": 5
}
